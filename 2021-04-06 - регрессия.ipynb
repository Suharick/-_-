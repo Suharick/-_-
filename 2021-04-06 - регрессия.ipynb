{
 "cells": [
  {
   "cell_type": "code",
   "execution_count": 1,
   "id": "given-lesbian",
   "metadata": {},
   "outputs": [],
   "source": [
    "from pandas import read_csv\n",
    "from sklearn.model_selection import KFold # задаем части, на которые разобьем выборку\n",
    "from sklearn.model_selection import cross_val_score"
   ]
  },
  {
   "cell_type": "markdown",
   "id": "attached-surname",
   "metadata": {},
   "source": [
    "## Построение классической регрессии (линейная регрессия)"
   ]
  },
  {
   "cell_type": "code",
   "execution_count": 2,
   "id": "statutory-independence",
   "metadata": {},
   "outputs": [],
   "source": [
    "from sklearn.linear_model import LinearRegression"
   ]
  },
  {
   "cell_type": "code",
   "execution_count": 4,
   "id": "operating-audience",
   "metadata": {},
   "outputs": [],
   "source": [
    "filename = 'git/data/housing.csv'\n",
    "names = ['CRIM','ZN','INDUS','CHAS','NOX','RM','AGE','DIS','RAD','TAX','PTRATIO','B','LSTAT','MEDV']\n",
    "dataframe = read_csv(filename, delim_whitespace=True, names=names) "
   ]
  },
  {
   "cell_type": "markdown",
   "id": "killing-burke",
   "metadata": {},
   "source": [
    "CRIM - доля преступности\n",
    "ZN - доля земли для застройки\n",
    "INDUS - \n",
    "CHAS - фиктивная переменная (1 - граничит с рекой, 0 - не граничет)\n",
    "NOX - концентрация аксидов азота\n",
    "RM - среднее кол-во комнат в доме\n",
    "AGE - доля живых единиц до 1940\n",
    "DIS - взвешанные растояния до 5 центров занятости\n",
    "RAD - индекс доступности транспортных магистралей\n",
    "TAX - ставка налоги на имущество\n",
    "PTRATIO - соотношение количество учеников к учителям \n",
    "B - доля чернокожих\n",
    "LSTAT - доля населения низкого статуса\n",
    "\n",
    "MEDV - результативный признак - средняя стоимость домов"
   ]
  },
  {
   "cell_type": "code",
   "execution_count": 5,
   "id": "secondary-township",
   "metadata": {},
   "outputs": [
    {
     "data": {
      "text/html": [
       "<div>\n",
       "<style scoped>\n",
       "    .dataframe tbody tr th:only-of-type {\n",
       "        vertical-align: middle;\n",
       "    }\n",
       "\n",
       "    .dataframe tbody tr th {\n",
       "        vertical-align: top;\n",
       "    }\n",
       "\n",
       "    .dataframe thead th {\n",
       "        text-align: right;\n",
       "    }\n",
       "</style>\n",
       "<table border=\"1\" class=\"dataframe\">\n",
       "  <thead>\n",
       "    <tr style=\"text-align: right;\">\n",
       "      <th></th>\n",
       "      <th>CRIM</th>\n",
       "      <th>ZN</th>\n",
       "      <th>INDUS</th>\n",
       "      <th>CHAS</th>\n",
       "      <th>NOX</th>\n",
       "      <th>RM</th>\n",
       "      <th>AGE</th>\n",
       "      <th>DIS</th>\n",
       "      <th>RAD</th>\n",
       "      <th>TAX</th>\n",
       "      <th>PTRATIO</th>\n",
       "      <th>B</th>\n",
       "      <th>LSTAT</th>\n",
       "      <th>MEDV</th>\n",
       "    </tr>\n",
       "  </thead>\n",
       "  <tbody>\n",
       "    <tr>\n",
       "      <th>0</th>\n",
       "      <td>0.00632</td>\n",
       "      <td>18.0</td>\n",
       "      <td>2.31</td>\n",
       "      <td>0</td>\n",
       "      <td>0.538</td>\n",
       "      <td>6.575</td>\n",
       "      <td>65.2</td>\n",
       "      <td>4.0900</td>\n",
       "      <td>1</td>\n",
       "      <td>296.0</td>\n",
       "      <td>15.3</td>\n",
       "      <td>396.90</td>\n",
       "      <td>4.98</td>\n",
       "      <td>24.0</td>\n",
       "    </tr>\n",
       "    <tr>\n",
       "      <th>1</th>\n",
       "      <td>0.02731</td>\n",
       "      <td>0.0</td>\n",
       "      <td>7.07</td>\n",
       "      <td>0</td>\n",
       "      <td>0.469</td>\n",
       "      <td>6.421</td>\n",
       "      <td>78.9</td>\n",
       "      <td>4.9671</td>\n",
       "      <td>2</td>\n",
       "      <td>242.0</td>\n",
       "      <td>17.8</td>\n",
       "      <td>396.90</td>\n",
       "      <td>9.14</td>\n",
       "      <td>21.6</td>\n",
       "    </tr>\n",
       "    <tr>\n",
       "      <th>2</th>\n",
       "      <td>0.02729</td>\n",
       "      <td>0.0</td>\n",
       "      <td>7.07</td>\n",
       "      <td>0</td>\n",
       "      <td>0.469</td>\n",
       "      <td>7.185</td>\n",
       "      <td>61.1</td>\n",
       "      <td>4.9671</td>\n",
       "      <td>2</td>\n",
       "      <td>242.0</td>\n",
       "      <td>17.8</td>\n",
       "      <td>392.83</td>\n",
       "      <td>4.03</td>\n",
       "      <td>34.7</td>\n",
       "    </tr>\n",
       "    <tr>\n",
       "      <th>3</th>\n",
       "      <td>0.03237</td>\n",
       "      <td>0.0</td>\n",
       "      <td>2.18</td>\n",
       "      <td>0</td>\n",
       "      <td>0.458</td>\n",
       "      <td>6.998</td>\n",
       "      <td>45.8</td>\n",
       "      <td>6.0622</td>\n",
       "      <td>3</td>\n",
       "      <td>222.0</td>\n",
       "      <td>18.7</td>\n",
       "      <td>394.63</td>\n",
       "      <td>2.94</td>\n",
       "      <td>33.4</td>\n",
       "    </tr>\n",
       "    <tr>\n",
       "      <th>4</th>\n",
       "      <td>0.06905</td>\n",
       "      <td>0.0</td>\n",
       "      <td>2.18</td>\n",
       "      <td>0</td>\n",
       "      <td>0.458</td>\n",
       "      <td>7.147</td>\n",
       "      <td>54.2</td>\n",
       "      <td>6.0622</td>\n",
       "      <td>3</td>\n",
       "      <td>222.0</td>\n",
       "      <td>18.7</td>\n",
       "      <td>396.90</td>\n",
       "      <td>5.33</td>\n",
       "      <td>36.2</td>\n",
       "    </tr>\n",
       "  </tbody>\n",
       "</table>\n",
       "</div>"
      ],
      "text/plain": [
       "      CRIM    ZN  INDUS  CHAS    NOX     RM   AGE     DIS  RAD    TAX  \\\n",
       "0  0.00632  18.0   2.31     0  0.538  6.575  65.2  4.0900    1  296.0   \n",
       "1  0.02731   0.0   7.07     0  0.469  6.421  78.9  4.9671    2  242.0   \n",
       "2  0.02729   0.0   7.07     0  0.469  7.185  61.1  4.9671    2  242.0   \n",
       "3  0.03237   0.0   2.18     0  0.458  6.998  45.8  6.0622    3  222.0   \n",
       "4  0.06905   0.0   2.18     0  0.458  7.147  54.2  6.0622    3  222.0   \n",
       "\n",
       "   PTRATIO       B  LSTAT  MEDV  \n",
       "0     15.3  396.90   4.98  24.0  \n",
       "1     17.8  396.90   9.14  21.6  \n",
       "2     17.8  392.83   4.03  34.7  \n",
       "3     18.7  394.63   2.94  33.4  \n",
       "4     18.7  396.90   5.33  36.2  "
      ]
     },
     "execution_count": 5,
     "metadata": {},
     "output_type": "execute_result"
    }
   ],
   "source": [
    "dataframe.head()"
   ]
  },
  {
   "cell_type": "code",
   "execution_count": 6,
   "id": "south-canada",
   "metadata": {},
   "outputs": [],
   "source": [
    "array = dataframe.values\n",
    "X = array[:,0:13]\n",
    "y = array[:,13]"
   ]
  },
  {
   "cell_type": "code",
   "execution_count": 7,
   "id": "cardiovascular-gamma",
   "metadata": {},
   "outputs": [],
   "source": [
    "kFold = KFold(n_splits = 10, random_state = 7, shuffle = True)\n",
    "model = LinearRegression() #экземпляр класса"
   ]
  },
  {
   "cell_type": "code",
   "execution_count": 10,
   "id": "genetic-commercial",
   "metadata": {},
   "outputs": [
    {
     "name": "stdout",
     "output_type": "stream",
     "text": [
      "Среднеквадратичная ошибка:  -23.746501811313447\n"
     ]
    }
   ],
   "source": [
    "# метод, которым будет оценен результат (среднеквадратичная ошибка)\n",
    "scoring = 'neg_mean_squared_error'\n",
    "\n",
    "# применим кросс-валидацию\n",
    "results = cross_val_score(model, X, y, cv = kFold, scoring = scoring)\n",
    "print('Среднеквадратичная ошибка: ',results.mean())"
   ]
  },
  {
   "cell_type": "markdown",
   "id": "digital-wyoming",
   "metadata": {},
   "source": [
    "# Регрессия с резуляризацией (резуляризация - переобучаемость модели)"
   ]
  },
  {
   "cell_type": "markdown",
   "id": "friendly-librarian",
   "metadata": {},
   "source": [
    "## Ridge Regression"
   ]
  },
  {
   "cell_type": "code",
   "execution_count": 11,
   "id": "seeing-brand",
   "metadata": {},
   "outputs": [],
   "source": [
    "from sklearn.linear_model import Ridge"
   ]
  },
  {
   "cell_type": "code",
   "execution_count": 12,
   "id": "trying-fundamentals",
   "metadata": {},
   "outputs": [],
   "source": [
    "model = Ridge()"
   ]
  },
  {
   "cell_type": "code",
   "execution_count": 13,
   "id": "expected-television",
   "metadata": {},
   "outputs": [
    {
     "name": "stdout",
     "output_type": "stream",
     "text": [
      "Среднеквадратичная ошибка:  -23.889890185053428\n"
     ]
    }
   ],
   "source": [
    "# применим кросс-валидацию\n",
    "results = cross_val_score(model, X, y, cv = kFold, scoring = scoring)\n",
    "print('Среднеквадратичная ошибка: ',results.mean())"
   ]
  },
  {
   "cell_type": "markdown",
   "id": "worldwide-preliminary",
   "metadata": {},
   "source": [
    "Результат похуже, чем у линейной регрессии"
   ]
  },
  {
   "cell_type": "markdown",
   "id": "undefined-maintenance",
   "metadata": {},
   "source": [
    "## Lasso Regression (L1-регуляризация: удаление незначимых признаков)"
   ]
  },
  {
   "cell_type": "code",
   "execution_count": 22,
   "id": "instrumental-evidence",
   "metadata": {},
   "outputs": [],
   "source": [
    "from sklearn.linear_model import Lasso"
   ]
  },
  {
   "cell_type": "code",
   "execution_count": 23,
   "id": "concrete-advantage",
   "metadata": {},
   "outputs": [],
   "source": [
    "model = Lasso()"
   ]
  },
  {
   "cell_type": "code",
   "execution_count": 24,
   "id": "creative-gravity",
   "metadata": {},
   "outputs": [
    {
     "name": "stdout",
     "output_type": "stream",
     "text": [
      "Среднеквадратичная ошибка:  -28.74589007585154\n"
     ]
    }
   ],
   "source": [
    "# применим кросс-валидацию\n",
    "results = cross_val_score(model, X, y, cv = kFold, scoring = scoring)\n",
    "print('Среднеквадратичная ошибка: ',results.mean())"
   ]
  },
  {
   "cell_type": "markdown",
   "id": "addressed-traveler",
   "metadata": {},
   "source": [
    "Лучше всех предыдущих результатов"
   ]
  },
  {
   "cell_type": "markdown",
   "id": "asian-indication",
   "metadata": {},
   "source": [
    "## Elastic Net Regression"
   ]
  },
  {
   "cell_type": "code",
   "execution_count": 18,
   "id": "organic-edgar",
   "metadata": {},
   "outputs": [],
   "source": [
    "from sklearn.linear_model import ElasticNet"
   ]
  },
  {
   "cell_type": "code",
   "execution_count": 20,
   "id": "banner-westminster",
   "metadata": {},
   "outputs": [],
   "source": [
    "model = ElasticNet()"
   ]
  },
  {
   "cell_type": "code",
   "execution_count": 21,
   "id": "fifteen-brass",
   "metadata": {},
   "outputs": [
    {
     "name": "stdout",
     "output_type": "stream",
     "text": [
      "Среднеквадратичная ошибка:  -27.90842036023106\n"
     ]
    }
   ],
   "source": [
    "# применим кросс-валидацию\n",
    "results = cross_val_score(model, X, y, cv = kFold, scoring = scoring)\n",
    "print('Среднеквадратичная ошибка: ',results.mean())"
   ]
  },
  {
   "cell_type": "code",
   "execution_count": null,
   "id": "japanese-reviewer",
   "metadata": {},
   "outputs": [],
   "source": []
  }
 ],
 "metadata": {
  "kernelspec": {
   "display_name": "Python 3",
   "language": "python",
   "name": "python3"
  },
  "language_info": {
   "codemirror_mode": {
    "name": "ipython",
    "version": 3
   },
   "file_extension": ".py",
   "mimetype": "text/x-python",
   "name": "python",
   "nbconvert_exporter": "python",
   "pygments_lexer": "ipython3",
   "version": "3.9.2"
  }
 },
 "nbformat": 4,
 "nbformat_minor": 5
}
